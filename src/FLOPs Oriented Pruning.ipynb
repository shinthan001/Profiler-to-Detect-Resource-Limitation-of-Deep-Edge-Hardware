{
 "cells": [
  {
   "cell_type": "code",
   "execution_count": 1,
   "id": "40abc01e",
   "metadata": {},
   "outputs": [
    {
     "name": "stdout",
     "output_type": "stream",
     "text": [
      "Requirement already satisfied: torch-pruning in c:\\users\\sejio27\\anaconda3\\envs\\project\\lib\\site-packages (1.3.7)\n",
      "Requirement already satisfied: numpy in c:\\users\\sejio27\\anaconda3\\envs\\project\\lib\\site-packages (from torch-pruning) (1.24.1)\n",
      "Requirement already satisfied: torch in c:\\users\\sejio27\\anaconda3\\envs\\project\\lib\\site-packages (from torch-pruning) (2.2.1+cu121)\n",
      "Requirement already satisfied: typing-extensions>=4.8.0 in c:\\users\\sejio27\\anaconda3\\envs\\project\\lib\\site-packages (from torch->torch-pruning) (4.10.0)\n",
      "Requirement already satisfied: filelock in c:\\users\\sejio27\\anaconda3\\envs\\project\\lib\\site-packages (from torch->torch-pruning) (3.9.0)\n",
      "Requirement already satisfied: jinja2 in c:\\users\\sejio27\\anaconda3\\envs\\project\\lib\\site-packages (from torch->torch-pruning) (3.1.2)\n",
      "Requirement already satisfied: networkx in c:\\users\\sejio27\\anaconda3\\envs\\project\\lib\\site-packages (from torch->torch-pruning) (3.0)\n",
      "Requirement already satisfied: fsspec in c:\\users\\sejio27\\anaconda3\\envs\\project\\lib\\site-packages (from torch->torch-pruning) (2023.6.0)\n",
      "Requirement already satisfied: sympy in c:\\users\\sejio27\\anaconda3\\envs\\project\\lib\\site-packages (from torch->torch-pruning) (1.11.1)\n",
      "Requirement already satisfied: MarkupSafe>=2.0 in c:\\users\\sejio27\\anaconda3\\envs\\project\\lib\\site-packages (from jinja2->torch->torch-pruning) (2.1.1)\n",
      "Requirement already satisfied: mpmath>=0.19 in c:\\users\\sejio27\\anaconda3\\envs\\project\\lib\\site-packages (from sympy->torch->torch-pruning) (1.2.1)\n"
     ]
    },
    {
     "name": "stderr",
     "output_type": "stream",
     "text": [
      "WARNING: Ignoring invalid distribution -orch (c:\\users\\sejio27\\anaconda3\\envs\\project\\lib\\site-packages)\n",
      "WARNING: Ignoring invalid distribution - (c:\\users\\sejio27\\anaconda3\\envs\\project\\lib\\site-packages)\n",
      "WARNING: Ignoring invalid distribution -orch (c:\\users\\sejio27\\anaconda3\\envs\\project\\lib\\site-packages)\n",
      "WARNING: Ignoring invalid distribution - (c:\\users\\sejio27\\anaconda3\\envs\\project\\lib\\site-packages)\n",
      "WARNING: Ignoring invalid distribution -orch (c:\\users\\sejio27\\anaconda3\\envs\\project\\lib\\site-packages)\n",
      "WARNING: Ignoring invalid distribution - (c:\\users\\sejio27\\anaconda3\\envs\\project\\lib\\site-packages)\n",
      "WARNING: Ignoring invalid distribution -orch (c:\\users\\sejio27\\anaconda3\\envs\\project\\lib\\site-packages)\n",
      "WARNING: Ignoring invalid distribution - (c:\\users\\sejio27\\anaconda3\\envs\\project\\lib\\site-packages)\n",
      "WARNING: Ignoring invalid distribution -orch (c:\\users\\sejio27\\anaconda3\\envs\\project\\lib\\site-packages)\n",
      "WARNING: Ignoring invalid distribution - (c:\\users\\sejio27\\anaconda3\\envs\\project\\lib\\site-packages)\n",
      "WARNING: Ignoring invalid distribution -orch (c:\\users\\sejio27\\anaconda3\\envs\\project\\lib\\site-packages)\n",
      "WARNING: Ignoring invalid distribution - (c:\\users\\sejio27\\anaconda3\\envs\\project\\lib\\site-packages)\n"
     ]
    }
   ],
   "source": [
    "!pip install torch-pruning "
   ]
  },
  {
   "cell_type": "code",
   "execution_count": 2,
   "id": "605d6180",
   "metadata": {},
   "outputs": [],
   "source": [
    "import gc\n",
    "import torch\n",
    "from torchvision import models\n",
    "import matplotlib.pyplot as plt\n",
    "import torch.quantization\n",
    "from copy import deepcopy\n",
    "import torch_pruning as tp\n",
    "\n",
    "from utils.utils import blockPrint, enablePrint\n",
    "\n",
    "PATH = \"C:\\\\Users\\\\Sejio27\\\\Documents\\\\GitHub\\\\Edge_Profiler\\\\.model\"\n",
    "DATA_PATH = \"C:\\\\Users\\\\Sejio27\\\\Documents\\\\GitHub\\\\Edge_Profiler\\\\.data\""
   ]
  },
  {
   "cell_type": "markdown",
   "id": "3f1255c8",
   "metadata": {},
   "source": [
    "### Import Libraries"
   ]
  },
  {
   "cell_type": "code",
   "execution_count": 3,
   "id": "4e5d706a",
   "metadata": {},
   "outputs": [],
   "source": [
    "from profiler.cuda import CUDA\n",
    "from dataset.imagenet import preprocess_data, validate_accuracy\n",
    "\n",
    "batch_size = 1\n",
    "image_w, image_h = 224, 224\n",
    "\n",
    "# device\n",
    "device = torch.device('cuda')\n",
    "\n",
    "# profiler\n",
    "prof = CUDA(track_energy=False, track_flops=True, disable_warmup=True)\n",
    "prof.disable_print = True\n",
    "\n",
    "# datasetloader\n",
    "dataloader = preprocess_data(DATA_PATH, 256, (image_w, image_h))"
   ]
  },
  {
   "cell_type": "markdown",
   "id": "44b8a59f",
   "metadata": {},
   "source": [
    "### Calculate FLOPs"
   ]
  },
  {
   "cell_type": "code",
   "execution_count": null,
   "id": "3592cdff",
   "metadata": {},
   "outputs": [],
   "source": [
    "def evaluate_flops(model, inputs):\n",
    "    prof.start_profiling()\n",
    "    _ = model(inputs)\n",
    "    prof.stop_profiling()\n",
    "    \n",
    "    return prof.total_flops()"
   ]
  },
  {
   "cell_type": "markdown",
   "id": "48b3ce86",
   "metadata": {},
   "source": [
    "### FLOPs Based Prune using DepGraph"
   ]
  },
  {
   "cell_type": "code",
   "execution_count": 4,
   "id": "60a6d952",
   "metadata": {},
   "outputs": [],
   "source": [
    "def prune_with_DepGraph(model, inputs, flops_threshold, pruning_ratio=0.01):\n",
    "    \n",
    "    if(pruning_ratio <= 0 or pruning_ratio >= 1) or (\n",
    "        flops_threshold <= 0 or flops_threshold >= 1):\n",
    "        return\n",
    "    \n",
    "    base_flops = evaluate_flops(model, inputs)\n",
    "    th_flops = (1 - flops_threshold) * base_flops\n",
    "    print(f'Base: {base_flops/10**9:.2f} GFLOPs')\n",
    "    print(f'Target: {th_flops/10**9:.2f} GFLOPs')\n",
    "    \n",
    "    ignored_layers = []\n",
    "    for m in model.modules():\n",
    "        if isinstance(m, torch.nn.Linear) and m.out_features == 1000:\n",
    "            ignored_layers.append(m) # DO NOT prune the final classifier!\n",
    "            \n",
    "    imp = tp.importance.TaylorImportance()\n",
    "    \n",
    "    flops = base_flops\n",
    "    prev_model = None\n",
    "    \n",
    "    while(flops > th_flops):\n",
    "        prev_model = deepcopy(model)\n",
    "        \n",
    "        pruner = tp.pruner.MagnitudePruner(\n",
    "            model,\n",
    "            inputs,\n",
    "            importance=imp,\n",
    "            pruning_ratio=pruning_ratio, # remove pruning_ratio in percentage\n",
    "            ignored_layers=ignored_layers,\n",
    "        )\n",
    "        \n",
    "        if isinstance(imp, tp.importance.TaylorImportance):\n",
    "            # Taylor expansion requires gradients for importance estimation\n",
    "            loss = model(inputs).sum() # a dummy loss for TaylorImportance\n",
    "            loss.backward() # before pruner.step()\n",
    "            pruner.step()\n",
    "\n",
    "        flops = evaluate_flops(model, inputs)\n",
    "        print(f'Pruned to: {flops/10**9:.2f} GFLOPs')\n",
    "        gc.collect()\n",
    "        torch.cuda.empty_cache()\n",
    "        \n",
    "    if(flops < th_flops):\n",
    "        print(f'Pruned beyond target FLOPs. back to previous FLOPs.')\n",
    "        del model\n",
    "        return prev_model\n",
    "    \n",
    "    del prev_model\n",
    "    return model"
   ]
  },
  {
   "cell_type": "code",
   "execution_count": 6,
   "id": "8b5b7683",
   "metadata": {},
   "outputs": [
    {
     "name": "stdout",
     "output_type": "stream",
     "text": [
      "Base: 0.43 GFLOPs\n",
      "Target: 0.41 GFLOPs\n",
      "Pruned to: 0.42 GFLOPs\n",
      "Pruned to: 0.40 GFLOPs\n",
      "Pruned beyond target FLOPs. back to previous FLOPs.\n"
     ]
    }
   ],
   "source": [
    "# load model\n",
    "model_file = 'mobilenet'\n",
    "model = torch.load(PATH + f\"\\\\{model_file}.pt\")\n",
    "model.to(device)\n",
    "\n",
    "# dummy inputs\n",
    "batch_size = 1\n",
    "image_w, image_h = 224, 224\n",
    "inputs = torch.rand(batch_size,3,image_w, image_h)\n",
    "inputs = inputs.to(device)\n",
    "\n",
    "# threshold\n",
    "flops_threshold = 0.050 # 5% of base FLOPs\n",
    "\n",
    "# prunning start\n",
    "model = prune_with_DepGraph(model, inputs, flops_threshold=flops_threshold)\n",
    "\n",
    "# save pruned model\n",
    "model_file =  f\"{model_file}_pruned_050\"\n",
    "torch.save(model, f\"{PATH}\\\\{model_file}.pt\")"
   ]
  },
  {
   "cell_type": "code",
   "execution_count": null,
   "id": "da34b64e",
   "metadata": {},
   "outputs": [],
   "source": []
  },
  {
   "cell_type": "code",
   "execution_count": null,
   "id": "997d5ba7",
   "metadata": {},
   "outputs": [],
   "source": []
  }
 ],
 "metadata": {
  "kernelspec": {
   "display_name": "Python 3 (ipykernel)",
   "language": "python",
   "name": "python3"
  },
  "language_info": {
   "codemirror_mode": {
    "name": "ipython",
    "version": 3
   },
   "file_extension": ".py",
   "mimetype": "text/x-python",
   "name": "python",
   "nbconvert_exporter": "python",
   "pygments_lexer": "ipython3",
   "version": "3.10.11"
  }
 },
 "nbformat": 4,
 "nbformat_minor": 5
}
